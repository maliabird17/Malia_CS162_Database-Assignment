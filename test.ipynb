{
 "cells": [
  {
   "cell_type": "code",
   "execution_count": 1,
   "metadata": {},
   "outputs": [],
   "source": [
    "import datetime"
   ]
  },
  {
   "cell_type": "code",
   "execution_count": 15,
   "metadata": {},
   "outputs": [
    {
     "name": "stdout",
     "output_type": "stream",
     "text": [
      "2023-04-07\n",
      "20234\n"
     ]
    }
   ],
   "source": [
    "now = datetime.date.today()\n",
    "month = int(str(datetime.date.today().year) + str(datetime.date.today().month))\n",
    "print(now)\n",
    "print(month)"
   ]
  }
 ],
 "metadata": {
  "kernelspec": {
   "display_name": "base",
   "language": "python",
   "name": "python3"
  },
  "language_info": {
   "codemirror_mode": {
    "name": "ipython",
    "version": 3
   },
   "file_extension": ".py",
   "mimetype": "text/x-python",
   "name": "python",
   "nbconvert_exporter": "python",
   "pygments_lexer": "ipython3",
   "version": "3.8.8"
  },
  "orig_nbformat": 4,
  "vscode": {
   "interpreter": {
    "hash": "dee978453c9acb8124e288e0454a6e18d0136c52f34bf35981c42cbe31defd8d"
   }
  }
 },
 "nbformat": 4,
 "nbformat_minor": 2
}
